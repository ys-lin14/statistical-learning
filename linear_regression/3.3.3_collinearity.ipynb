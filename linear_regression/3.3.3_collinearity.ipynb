{
 "cells": [
  {
   "cell_type": "code",
   "execution_count": 25,
   "metadata": {},
   "outputs": [],
   "source": [
    "import numpy as np\n",
    "import pandas as pd\n",
    "import statsmodels.api as sm\n",
    "\n",
    "from statsmodels.stats.outliers_influence import variance_inflation_factor"
   ]
  },
  {
   "cell_type": "code",
   "execution_count": 54,
   "metadata": {},
   "outputs": [],
   "source": [
    "def calculate_vifs(X):\n",
    "    num_columns = X.shape[1]\n",
    "    vifs = [variance_inflation_factor(X, idx) for idx in range(1, num_columns)]\n",
    "    vifs = [round(vif, 2) for vif in vifs]\n",
    "    return vifs"
   ]
  },
  {
   "cell_type": "code",
   "execution_count": 66,
   "metadata": {},
   "outputs": [],
   "source": [
    "credit_data = pd.read_csv('../data/credit.csv')"
   ]
  },
  {
   "cell_type": "code",
   "execution_count": 67,
   "metadata": {},
   "outputs": [
    {
     "data": {
      "text/html": [
       "<div>\n",
       "<style scoped>\n",
       "    .dataframe tbody tr th:only-of-type {\n",
       "        vertical-align: middle;\n",
       "    }\n",
       "\n",
       "    .dataframe tbody tr th {\n",
       "        vertical-align: top;\n",
       "    }\n",
       "\n",
       "    .dataframe thead th {\n",
       "        text-align: right;\n",
       "    }\n",
       "</style>\n",
       "<table border=\"1\" class=\"dataframe\">\n",
       "  <thead>\n",
       "    <tr style=\"text-align: right;\">\n",
       "      <th></th>\n",
       "      <th>Age</th>\n",
       "      <th>Limit</th>\n",
       "      <th>Rating</th>\n",
       "    </tr>\n",
       "  </thead>\n",
       "  <tbody>\n",
       "    <tr>\n",
       "      <th>Age</th>\n",
       "      <td>1.000000</td>\n",
       "      <td>0.100888</td>\n",
       "      <td>0.103165</td>\n",
       "    </tr>\n",
       "    <tr>\n",
       "      <th>Limit</th>\n",
       "      <td>0.100888</td>\n",
       "      <td>1.000000</td>\n",
       "      <td>0.996880</td>\n",
       "    </tr>\n",
       "    <tr>\n",
       "      <th>Rating</th>\n",
       "      <td>0.103165</td>\n",
       "      <td>0.996880</td>\n",
       "      <td>1.000000</td>\n",
       "    </tr>\n",
       "  </tbody>\n",
       "</table>\n",
       "</div>"
      ],
      "text/plain": [
       "             Age     Limit    Rating\n",
       "Age     1.000000  0.100888  0.103165\n",
       "Limit   0.100888  1.000000  0.996880\n",
       "Rating  0.103165  0.996880  1.000000"
      ]
     },
     "execution_count": 67,
     "metadata": {},
     "output_type": "execute_result"
    }
   ],
   "source": [
    "X_columns = ['Age', 'Limit', 'Rating']\n",
    "X = credit_data[X_columns]\n",
    "X.corr()"
   ]
  },
  {
   "cell_type": "code",
   "execution_count": 68,
   "metadata": {},
   "outputs": [],
   "source": [
    "X = X.to_numpy()\n",
    "X = sm.add_constant(X)"
   ]
  },
  {
   "cell_type": "code",
   "execution_count": 69,
   "metadata": {},
   "outputs": [],
   "source": [
    "y = credit_data['Balance'].to_numpy()"
   ]
  },
  {
   "cell_type": "code",
   "execution_count": 78,
   "metadata": {
    "scrolled": true
   },
   "outputs": [
    {
     "name": "stdout",
     "output_type": "stream",
     "text": [
      "R-Squared: 0.7536015110570427\n",
      "\n",
      "Variance Inflation Factor for Age: 1.01\n",
      "Variance Inflation Factor for Limit: 160.59\n",
      "Variance Inflation Factor for Rating: 160.67\n"
     ]
    }
   ],
   "source": [
    "# regression of Balance on Age, Rating and Limit\n",
    "linear_model_1 = sm.OLS(endog=y, exog=X)\n",
    "results_1 = linear_model_1.fit()\n",
    "r_squared_1 = results_1.rsquared\n",
    "print(f'R-Squared: {r_squared_1}\\n')\n",
    "\n",
    "vifs1 = calculate_vifs(X)\n",
    "for column, vif in zip(X_columns, vifs1):\n",
    "    print(f'Variance Inflation Factor for {column}: {vif}')"
   ]
  },
  {
   "cell_type": "markdown",
   "metadata": {},
   "source": [
    "Presence of collinearity indicated by large VIFs for Limit and Rating."
   ]
  },
  {
   "cell_type": "code",
   "execution_count": 85,
   "metadata": {
    "scrolled": true
   },
   "outputs": [
    {
     "name": "stdout",
     "output_type": "stream",
     "text": [
      "R-Squared: 0.7498386129717793\n",
      "\n",
      "Variance Inflation Factor for Age: 1.01\n",
      "Variance Inflation Factor for Limit: 1.01\n"
     ]
    }
   ],
   "source": [
    "# regression of Balance on Age and Rating\n",
    "linear_model_2 = sm.OLS(endog=y, exog=X[:, :-1])\n",
    "results_2 = linear_model_2.fit()\n",
    "r_squared_2 = results_2.rsquared\n",
    "print(f'R-Squared: {r_squared_2}\\n')\n",
    "\n",
    "# calculate and print VIFs\n",
    "vifs2 = calculate_vifs(X[:, :-1])\n",
    "\n",
    "for column, vif in zip(X_columns[:-1], vifs2):\n",
    "    print(f'Variance Inflation Factor for {column}: {vif}')\n",
    "    \n"
   ]
  },
  {
   "cell_type": "markdown",
   "metadata": {},
   "source": [
    "Dropping Rating greatly reduced VIF without compromising the fit of the model."
   ]
  }
 ],
 "metadata": {
  "kernelspec": {
   "display_name": "Python 3",
   "language": "python",
   "name": "python3"
  },
  "language_info": {
   "codemirror_mode": {
    "name": "ipython",
    "version": 3
   },
   "file_extension": ".py",
   "mimetype": "text/x-python",
   "name": "python",
   "nbconvert_exporter": "python",
   "pygments_lexer": "ipython3",
   "version": "3.8.5"
  }
 },
 "nbformat": 4,
 "nbformat_minor": 4
}
