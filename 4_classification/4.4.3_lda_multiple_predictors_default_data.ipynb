{
 "cells": [
  {
   "cell_type": "code",
   "execution_count": 1,
   "metadata": {},
   "outputs": [],
   "source": [
    "import matplotlib.pyplot as plt\n",
    "import numpy as np\n",
    "import pandas as pd\n",
    "\n",
    "from mlxtend.plotting import plot_decision_regions\n",
    "from sklearn.discriminant_analysis import LinearDiscriminantAnalysis\n",
    "from sklearn.metrics import (\n",
    "    accuracy_score, confusion_matrix, f1_score, precision_score, recall_score,\n",
    "    plot_roc_curve, plot_precision_recall_curve\n",
    ")\n",
    "\n",
    "from ch4_metrics import evaluate_classifier"
   ]
  },
  {
   "cell_type": "code",
   "execution_count": 2,
   "metadata": {},
   "outputs": [],
   "source": [
    "default_data = pd.read_csv('../data/default.csv')"
   ]
  },
  {
   "cell_type": "code",
   "execution_count": 3,
   "metadata": {},
   "outputs": [],
   "source": [
    "default_data['is_student'] = default_data['student'].map({'No': 0, 'Yes': 1})\n",
    "default_data['defaulted'] = default_data['default'].map({'No': 0, 'Yes': 1})"
   ]
  },
  {
   "cell_type": "code",
   "execution_count": 4,
   "metadata": {},
   "outputs": [],
   "source": [
    "# use all data to train lda, no testing data\n",
    "X = default_data[['balance', 'is_student']].to_numpy()\n",
    "y = default_data['defaulted'].to_numpy()"
   ]
  },
  {
   "cell_type": "code",
   "execution_count": 5,
   "metadata": {},
   "outputs": [
    {
     "data": {
      "text/plain": [
       "LinearDiscriminantAnalysis()"
      ]
     },
     "execution_count": 5,
     "metadata": {},
     "output_type": "execute_result"
    }
   ],
   "source": [
    "classifier = LinearDiscriminantAnalysis()\n",
    "classifier.fit(X, y)"
   ]
  },
  {
   "cell_type": "code",
   "execution_count": 6,
   "metadata": {},
   "outputs": [
    {
     "data": {
      "image/png": "[encoded data removed]",
      "text/plain": [
       "<Figure size 432x288 with 1 Axes>"
      ]
     },
     "metadata": {
      "needs_background": "light"
     },
     "output_type": "display_data"
    }
   ],
   "source": [
    "ax = plot_decision_regions(X, y, clf=classifier)\n",
    "ax.set_title('LDA Decision Boundary and Regions for Default Data')\n",
    "ax.set_xlabel('Balance')\n",
    "ax.set_ylabel('Defaulted')\n",
    "ax.set_yticks([0, 1])\n",
    "plt.show()"
   ]
  },
  {
   "cell_type": "code",
   "execution_count": 7,
   "metadata": {},
   "outputs": [
    {
     "name": "stdout",
     "output_type": "stream",
     "text": [
      "Accuracy: 0.9725\n",
      "Null Accuracy:0.9667\n",
      "\n",
      "\n",
      "Confusion Matrix:\n",
      "[[9644   23]\n",
      " [ 252   81]]\n",
      "\n",
      "F1 Score: 0.371\n",
      "Precision: 0.779\n",
      "Recall: 0.243\n"
     ]
    }
   ],
   "source": [
    "# evaluating using training data\n",
    "evaluate_classifier(X, y, classifier)"
   ]
  },
  {
   "cell_type": "markdown",
   "metadata": {},
   "source": [
    "LDA with default threshold of 0.5 \n",
    "\n",
    "|            | Predicted No | Predicted Yes |\n",
    "|     :-:    |     :-:      |      :-:      | \n",
    "| Actual No  |    9644      |       23      | \n",
    "| Actual Yes |     252      |       81      |"
   ]
  },
  {
   "cell_type": "code",
   "execution_count": 8,
   "metadata": {},
   "outputs": [
    {
     "name": "stdout",
     "output_type": "stream",
     "text": [
      "Accuracy: 0.9657\n",
      "Null Accuracy:0.9667\n",
      "\n",
      "\n",
      "Confusion Matrix:\n",
      "[[9472  195]\n",
      " [ 148  185]]\n",
      "\n",
      "F1 Score: 0.519\n",
      "Precision: 0.487\n",
      "Recall: 0.556\n"
     ]
    }
   ],
   "source": [
    "# adjust threshold of 0.22 \n",
    "evaluate_classifier(X, y, classifier, threshold=0.22)"
   ]
  }
 ],
 "metadata": {
  "kernelspec": {
   "display_name": "Python 3",
   "language": "python",
   "name": "python3"
  },
  "language_info": {
   "codemirror_mode": {
    "name": "ipython",
    "version": 3
   },
   "file_extension": ".py",
   "mimetype": "text/x-python",
   "name": "python",
   "nbconvert_exporter": "python",
   "pygments_lexer": "ipython3",
   "version": "3.9.2"
  }
 },
 "nbformat": 4,
 "nbformat_minor": 4
}
