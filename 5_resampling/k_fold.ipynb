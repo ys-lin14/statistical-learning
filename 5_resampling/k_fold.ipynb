{
 "cells": [
  {
   "cell_type": "code",
   "execution_count": 1,
   "metadata": {},
   "outputs": [],
   "source": [
    "import pandas as pd\n",
    "import sklearn\n",
    "import statsmodels.api as sm\n",
    "\n",
    "from sklearn.base import BaseEstimator, RegressorMixin\n",
    "from sklearn.model_selection import cross_val_score, LeaveOneOut\n",
    "from sklearn.preprocessing import PolynomialFeatures"
   ]
  },
  {
   "cell_type": "code",
   "execution_count": 2,
   "metadata": {},
   "outputs": [],
   "source": [
    "# wrapper for statsmodels https://stackoverflow.com/questions/41045752/\n",
    "class SMWrapper(BaseEstimator, RegressorMixin):\n",
    "    \"\"\" A universal sklearn-style wrapper for statsmodels regressors \"\"\"\n",
    "    def __init__(self, model_class, fit_intercept=True):\n",
    "        self.model_class = model_class\n",
    "        self.fit_intercept = fit_intercept\n",
    "    def fit(self, X, y):\n",
    "        if self.fit_intercept:\n",
    "            X = sm.add_constant(X)\n",
    "        self.model_ = self.model_class(y, X)\n",
    "        self.results_ = self.model_.fit()\n",
    "    def predict(self, X):\n",
    "        if self.fit_intercept:\n",
    "            X = sm.add_constant(X)\n",
    "        return self.results_.predict(X)"
   ]
  },
  {
   "cell_type": "code",
   "execution_count": 3,
   "metadata": {},
   "outputs": [],
   "source": [
    "def sklearn_cv(X, y, cv=None):\n",
    "    cv_results = cross_val_score(\n",
    "        SMWrapper(sm.OLS), \n",
    "        X, \n",
    "        y, \n",
    "        cv=cv, \n",
    "        scoring='neg_mean_squared_error'\n",
    "    )\n",
    "    neg_mse = cv_results.mean()\n",
    "    return neg_mse\n",
    "    \n",
    "def islr_loocv(X, y):\n",
    "    linear_model = sm.OLS(endog=y, exog=X)\n",
    "    results = linear_model.fit()\n",
    "\n",
    "    residuals = results.resid\n",
    "    leverage = results.get_influence().hat_diag_factor\n",
    "    loocv_mse = ((residuals / (1 - leverage)) ** 2).mean() \n",
    "    return loocv_mse"
   ]
  },
  {
   "cell_type": "code",
   "execution_count": 4,
   "metadata": {},
   "outputs": [],
   "source": [
    "auto_data = pd.read_csv('../data/auto.csv')"
   ]
  },
  {
   "cell_type": "code",
   "execution_count": 5,
   "metadata": {},
   "outputs": [],
   "source": [
    "polynomial_features = PolynomialFeatures(degree=2)\n",
    "X = auto_data['horsepower'].to_numpy().reshape(-1, 1)\n",
    "X = polynomial_features.fit_transform(X) # for quadratic fit on auto data set\n",
    "y = auto_data['mpg'].to_numpy().reshape(-1, 1)"
   ]
  },
  {
   "cell_type": "code",
   "execution_count": 6,
   "metadata": {},
   "outputs": [
    {
     "name": "stdout",
     "output_type": "stream",
     "text": [
      "Sklearn LOOCV MSE: -19.248213124489535\n"
     ]
    }
   ],
   "source": [
    "# LOOCV using sklearn - fit model n times\n",
    "loocv = LeaveOneOut()\n",
    "sklearn_loocv_mse = sklearn_cv(X, y, cv=loocv)\n",
    "print(f'Sklearn LOOCV MSE: {sklearn_loocv_mse}')"
   ]
  },
  {
   "cell_type": "code",
   "execution_count": 7,
   "metadata": {},
   "outputs": [
    {
     "name": "stdout",
     "output_type": "stream",
     "text": [
      "ISLR LOOCV MSE: 19.25171903816222\n"
     ]
    }
   ],
   "source": [
    "# LOOCV using ISLR magic formula - fit model once\n",
    "islr_loocv_mse = islr_loocv(X, y)\n",
    "print(f'ISLR LOOCV MSE: {islr_loocv_mse}')"
   ]
  },
  {
   "cell_type": "code",
   "execution_count": 8,
   "metadata": {},
   "outputs": [
    {
     "name": "stdout",
     "output_type": "stream",
     "text": [
      "5-fold MSE: -24.34715884368145\n",
      "10-fold MSE: -21.23584005580647\n",
      "25-fold MSE: -20.328175210303556\n",
      "50-fold MSE: -19.89226257907138\n"
     ]
    }
   ],
   "source": [
    "# k-fold cv using sklearn - fit model k times\n",
    "num_folds = [5, 10, 25, 50]\n",
    "for num_fold in num_folds:\n",
    "    kfold_mse = sklearn_cv(X, y, cv=num_fold)\n",
    "    print(f'{num_fold}-fold MSE: {kfold_mse}')"
   ]
  },
  {
   "cell_type": "code",
   "execution_count": 9,
   "metadata": {},
   "outputs": [
    {
     "name": "stdout",
     "output_type": "stream",
     "text": [
      "420 ms ± 17.6 ms per loop (mean ± std. dev. of 7 runs, 1 loop each)\n"
     ]
    }
   ],
   "source": [
    "%%timeit \n",
    "sklearn_cv(X, y, cv=loocv)"
   ]
  },
  {
   "cell_type": "code",
   "execution_count": 10,
   "metadata": {},
   "outputs": [
    {
     "name": "stdout",
     "output_type": "stream",
     "text": [
      "431 µs ± 36.4 µs per loop (mean ± std. dev. of 7 runs, 1000 loops each)\n"
     ]
    }
   ],
   "source": [
    "%%timeit\n",
    "islr_loocv(X, y)"
   ]
  },
  {
   "cell_type": "code",
   "execution_count": 11,
   "metadata": {},
   "outputs": [
    {
     "name": "stdout",
     "output_type": "stream",
     "text": [
      "118 ms ± 4.65 ms per loop (mean ± std. dev. of 7 runs, 10 loops each)\n"
     ]
    }
   ],
   "source": [
    "%%timeit \n",
    "sklearn_cv(X, y, cv=100) # 100 fold"
   ]
  }
 ],
 "metadata": {
  "kernelspec": {
   "display_name": "Python 3",
   "language": "python",
   "name": "python3"
  },
  "language_info": {
   "codemirror_mode": {
    "name": "ipython",
    "version": 3
   },
   "file_extension": ".py",
   "mimetype": "text/x-python",
   "name": "python",
   "nbconvert_exporter": "python",
   "pygments_lexer": "ipython3",
   "version": "3.8.5"
  }
 },
 "nbformat": 4,
 "nbformat_minor": 4
}
