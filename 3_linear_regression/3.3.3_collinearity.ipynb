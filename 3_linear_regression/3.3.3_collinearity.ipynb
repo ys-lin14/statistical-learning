{
 "cells": [
  {
   "cell_type": "code",
   "execution_count": 2,
   "metadata": {},
   "outputs": [
    {
     "ename": "ModuleNotFoundError",
     "evalue": "No module named 'statsmodels'",
     "output_type": "error",
     "traceback": [
      "\u001b[1;31m---------------------------------------------------------------------------\u001b[0m",
      "\u001b[1;31mModuleNotFoundError\u001b[0m                       Traceback (most recent call last)",
      "\u001b[1;32m<ipython-input-2-762ec301d187>\u001b[0m in \u001b[0;36m<module>\u001b[1;34m\u001b[0m\n\u001b[0;32m      1\u001b[0m \u001b[1;32mimport\u001b[0m \u001b[0mnumpy\u001b[0m \u001b[1;32mas\u001b[0m \u001b[0mnp\u001b[0m\u001b[1;33m\u001b[0m\u001b[1;33m\u001b[0m\u001b[0m\n\u001b[0;32m      2\u001b[0m \u001b[1;32mimport\u001b[0m \u001b[0mpandas\u001b[0m \u001b[1;32mas\u001b[0m \u001b[0mpd\u001b[0m\u001b[1;33m\u001b[0m\u001b[1;33m\u001b[0m\u001b[0m\n\u001b[1;32m----> 3\u001b[1;33m \u001b[1;32mimport\u001b[0m \u001b[0mstatsmodels\u001b[0m\u001b[1;33m.\u001b[0m\u001b[0mapi\u001b[0m \u001b[1;32mas\u001b[0m \u001b[0msm\u001b[0m\u001b[1;33m\u001b[0m\u001b[1;33m\u001b[0m\u001b[0m\n\u001b[0m\u001b[0;32m      4\u001b[0m \u001b[1;33m\u001b[0m\u001b[0m\n\u001b[0;32m      5\u001b[0m \u001b[1;32mfrom\u001b[0m \u001b[0mstatsmodels\u001b[0m\u001b[1;33m.\u001b[0m\u001b[0mstats\u001b[0m\u001b[1;33m.\u001b[0m\u001b[0moutliers_influence\u001b[0m \u001b[1;32mimport\u001b[0m \u001b[0mvariance_inflation_factor\u001b[0m\u001b[1;33m\u001b[0m\u001b[1;33m\u001b[0m\u001b[0m\n",
      "\u001b[1;31mModuleNotFoundError\u001b[0m: No module named 'statsmodels'"
     ]
    }
   ],
   "source": [
    "import numpy as np\n",
    "import pandas as pd\n",
    "import statsmodels.api as sm\n",
    "\n",
    "from statsmodels.stats.outliers_influence import variance_inflation_factor"
   ]
  },
  {
   "cell_type": "code",
   "execution_count": null,
   "metadata": {},
   "outputs": [],
   "source": [
    "def calculate_vifs(X):\n",
    "    num_columns = X.shape[1]\n",
    "    vifs = [variance_inflation_factor(X, idx) for idx in range(1, num_columns)]\n",
    "    vifs = [round(vif, 2) for vif in vifs]\n",
    "    return vifs"
   ]
  },
  {
   "cell_type": "code",
   "execution_count": null,
   "metadata": {},
   "outputs": [],
   "source": [
    "credit_data = pd.read_csv('../data/credit.csv')"
   ]
  },
  {
   "cell_type": "code",
   "execution_count": null,
   "metadata": {},
   "outputs": [],
   "source": [
    "X_columns = ['Age', 'Limit', 'Rating']\n",
    "X = credit_data[X_columns]\n",
    "X.corr()"
   ]
  },
  {
   "cell_type": "code",
   "execution_count": null,
   "metadata": {},
   "outputs": [],
   "source": [
    "X = X.to_numpy()\n",
    "X = sm.add_constant(X)"
   ]
  },
  {
   "cell_type": "code",
   "execution_count": null,
   "metadata": {},
   "outputs": [],
   "source": [
    "y = credit_data['Balance'].to_numpy()"
   ]
  },
  {
   "cell_type": "code",
   "execution_count": null,
   "metadata": {
    "scrolled": true
   },
   "outputs": [],
   "source": [
    "# regression of Balance on Age, Limit and Rating\n",
    "linear_model_1 = sm.OLS(endog=y, exog=X)\n",
    "results_1 = linear_model_1.fit()\n",
    "print(results_1.summary().tables[1])\n",
    "print(f'R-Squared: {results_1.rsquared}\\n')\n",
    "\n",
    "vifs1 = calculate_vifs(X)\n",
    "for column, vif in zip(X_columns, vifs1):\n",
    "    print(f'Variance Inflation Factor for {column}: {vif}')"
   ]
  },
  {
   "cell_type": "markdown",
   "metadata": {},
   "source": [
    "Confidence Interval for Limit's coefficient not significant due to collinearity indicated by large VIFs for Limit and Rating."
   ]
  },
  {
   "cell_type": "code",
   "execution_count": null,
   "metadata": {
    "scrolled": true
   },
   "outputs": [],
   "source": [
    "# regression of Balance on Age and Limit\n",
    "linear_model_2 = sm.OLS(endog=y, exog=X[:, :-1])\n",
    "results_2 = linear_model_2.fit()\n",
    "print(results_2.summary().tables[1])\n",
    "print(f'R-Squared: {results_2.rsquared}\\n')\n",
    "\n",
    "# calculate and print VIFs\n",
    "vifs2 = calculate_vifs(X[:, :-1])\n",
    "\n",
    "for column, vif in zip(X_columns[:-1], vifs2):\n",
    "    print(f'Variance Inflation Factor for {column}: {vif}')"
   ]
  },
  {
   "cell_type": "markdown",
   "metadata": {},
   "source": [
    "Dropping Rating greatly reduced VIF without compromising the fit of the model.\n",
    "\n",
    "Alternative solution is to combine the Rating and Limit."
   ]
  },
  {
   "cell_type": "code",
   "execution_count": null,
   "metadata": {},
   "outputs": [],
   "source": [
    "longley_data = sm.datasets.get_rdataset('longley').data\n",
    "longley_data.reset_index(drop=True, inplace=True)"
   ]
  },
  {
   "cell_type": "code",
   "execution_count": null,
   "metadata": {},
   "outputs": [],
   "source": [
    "X_columns = longley_data.columns[:-1]\n",
    "X = longley_data.iloc[:, :-1].to_numpy()\n",
    "X = sm.add_constant(X)\n",
    "\n",
    "y = longley_data['Employed'].to_numpy()"
   ]
  },
  {
   "cell_type": "code",
   "execution_count": null,
   "metadata": {},
   "outputs": [],
   "source": [
    "longley_model = sm.OLS(endog=y, exog=X)\n",
    "longley_results = longley_model.fit()\n",
    "\n",
    "print(longley_results.summary().tables[1])\n",
    "print(f'R-Squared: {longley_results.rsquared}\\n')\n",
    "\n",
    "longley_vifs = calculate_vifs(X)\n",
    "for column, vif in zip(X_columns, longley_vifs):\n",
    "    print(f'Variance Inflation Factor for {column}: {vif}')"
   ]
  }
 ],
 "metadata": {
  "kernelspec": {
   "display_name": "Python 3",
   "language": "python",
   "name": "python3"
  },
  "language_info": {
   "codemirror_mode": {
    "name": "ipython",
    "version": 3
   },
   "file_extension": ".py",
   "mimetype": "text/x-python",
   "name": "python",
   "nbconvert_exporter": "python",
   "pygments_lexer": "ipython3",
   "version": "3.8.7"
  }
 },
 "nbformat": 4,
 "nbformat_minor": 4
}
