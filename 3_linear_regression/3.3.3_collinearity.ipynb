{
 "cells": [
  {
   "cell_type": "code",
   "execution_count": 1,
   "metadata": {},
   "outputs": [],
   "source": [
    "import numpy as np\n",
    "import pandas as pd\n",
    "import statsmodels.api as sm\n",
    "\n",
    "from statsmodels.stats.outliers_influence import variance_inflation_factor"
   ]
  },
  {
   "cell_type": "code",
   "execution_count": 2,
   "metadata": {},
   "outputs": [],
   "source": [
    "def calculate_vifs(X):\n",
    "    num_columns = X.shape[1]\n",
    "    vifs = [variance_inflation_factor(X, idx) for idx in range(1, num_columns)]\n",
    "    vifs = [round(vif, 2) for vif in vifs]\n",
    "    return vifs"
   ]
  },
  {
   "cell_type": "code",
   "execution_count": 3,
   "metadata": {},
   "outputs": [],
   "source": [
    "credit_data = pd.read_csv('../data/credit.csv')"
   ]
  },
  {
   "cell_type": "code",
   "execution_count": 4,
   "metadata": {},
   "outputs": [
    {
     "data": {
      "text/html": [
       "<div>\n",
       "<style scoped>\n",
       "    .dataframe tbody tr th:only-of-type {\n",
       "        vertical-align: middle;\n",
       "    }\n",
       "\n",
       "    .dataframe tbody tr th {\n",
       "        vertical-align: top;\n",
       "    }\n",
       "\n",
       "    .dataframe thead th {\n",
       "        text-align: right;\n",
       "    }\n",
       "</style>\n",
       "<table border=\"1\" class=\"dataframe\">\n",
       "  <thead>\n",
       "    <tr style=\"text-align: right;\">\n",
       "      <th></th>\n",
       "      <th>Age</th>\n",
       "      <th>Limit</th>\n",
       "      <th>Rating</th>\n",
       "    </tr>\n",
       "  </thead>\n",
       "  <tbody>\n",
       "    <tr>\n",
       "      <th>Age</th>\n",
       "      <td>1.000000</td>\n",
       "      <td>0.100888</td>\n",
       "      <td>0.103165</td>\n",
       "    </tr>\n",
       "    <tr>\n",
       "      <th>Limit</th>\n",
       "      <td>0.100888</td>\n",
       "      <td>1.000000</td>\n",
       "      <td>0.996880</td>\n",
       "    </tr>\n",
       "    <tr>\n",
       "      <th>Rating</th>\n",
       "      <td>0.103165</td>\n",
       "      <td>0.996880</td>\n",
       "      <td>1.000000</td>\n",
       "    </tr>\n",
       "  </tbody>\n",
       "</table>\n",
       "</div>"
      ],
      "text/plain": [
       "             Age     Limit    Rating\n",
       "Age     1.000000  0.100888  0.103165\n",
       "Limit   0.100888  1.000000  0.996880\n",
       "Rating  0.103165  0.996880  1.000000"
      ]
     },
     "execution_count": 4,
     "metadata": {},
     "output_type": "execute_result"
    }
   ],
   "source": [
    "X_columns = ['Age', 'Limit', 'Rating']\n",
    "X = credit_data[X_columns]\n",
    "X.corr()"
   ]
  },
  {
   "cell_type": "code",
   "execution_count": 5,
   "metadata": {},
   "outputs": [],
   "source": [
    "X = X.to_numpy()\n",
    "X = sm.add_constant(X)"
   ]
  },
  {
   "cell_type": "code",
   "execution_count": 6,
   "metadata": {},
   "outputs": [],
   "source": [
    "y = credit_data['Balance'].to_numpy()"
   ]
  },
  {
   "cell_type": "code",
   "execution_count": 7,
   "metadata": {
    "scrolled": true
   },
   "outputs": [
    {
     "name": "stdout",
     "output_type": "stream",
     "text": [
      "==============================================================================\n",
      "                 coef    std err          t      P>|t|      [0.025      0.975]\n",
      "------------------------------------------------------------------------------\n",
      "const       -259.5175     55.882     -4.644      0.000    -369.380    -149.655\n",
      "x1            -2.3458      0.669     -3.508      0.001      -3.660      -1.031\n",
      "x2             0.0190      0.063      0.302      0.763      -0.105       0.143\n",
      "x3             2.3105      0.940      2.459      0.014       0.463       4.158\n",
      "==============================================================================\n",
      "R-Squared: 0.7536015110570425\n",
      "\n",
      "Variance Inflation Factor for Age: 1.01\n",
      "Variance Inflation Factor for Limit: 160.59\n",
      "Variance Inflation Factor for Rating: 160.67\n"
     ]
    }
   ],
   "source": [
    "# regression of Balance on Age, Limit and Rating\n",
    "linear_model_1 = sm.OLS(endog=y, exog=X)\n",
    "results_1 = linear_model_1.fit()\n",
    "print(results_1.summary().tables[1])\n",
    "print(f'R-Squared: {results_1.rsquared}\\n')\n",
    "\n",
    "vifs1 = calculate_vifs(X)\n",
    "for column, vif in zip(X_columns, vifs1):\n",
    "    print(f'Variance Inflation Factor for {column}: {vif}')"
   ]
  },
  {
   "cell_type": "markdown",
   "metadata": {},
   "source": [
    "Confidence Interval for Limit's coefficient not significant due to collinearity indicated by large VIFs for Limit and Rating."
   ]
  },
  {
   "cell_type": "code",
   "execution_count": 8,
   "metadata": {
    "scrolled": true
   },
   "outputs": [
    {
     "name": "stdout",
     "output_type": "stream",
     "text": [
      "==============================================================================\n",
      "                 coef    std err          t      P>|t|      [0.025      0.975]\n",
      "------------------------------------------------------------------------------\n",
      "const       -173.4109     43.828     -3.957      0.000    -259.576     -87.246\n",
      "x1            -2.2915      0.672     -3.407      0.001      -3.614      -0.969\n",
      "x2             0.1734      0.005     34.496      0.000       0.163       0.183\n",
      "==============================================================================\n",
      "R-Squared: 0.7498386129717791\n",
      "\n",
      "Variance Inflation Factor for Age: 1.01\n",
      "Variance Inflation Factor for Limit: 1.01\n"
     ]
    }
   ],
   "source": [
    "# regression of Balance on Age and Limit\n",
    "linear_model_2 = sm.OLS(endog=y, exog=X[:, :-1])\n",
    "results_2 = linear_model_2.fit()\n",
    "print(results_2.summary().tables[1])\n",
    "print(f'R-Squared: {results_2.rsquared}\\n')\n",
    "\n",
    "# calculate and print VIFs\n",
    "vifs2 = calculate_vifs(X[:, :-1])\n",
    "\n",
    "for column, vif in zip(X_columns[:-1], vifs2):\n",
    "    print(f'Variance Inflation Factor for {column}: {vif}')"
   ]
  },
  {
   "cell_type": "markdown",
   "metadata": {},
   "source": [
    "Dropping Rating greatly reduced VIF without compromising the fit of the model.\n",
    "\n",
    "Alternative solution is to combine the Rating and Limit."
   ]
  },
  {
   "cell_type": "code",
   "execution_count": 21,
   "metadata": {},
   "outputs": [],
   "source": [
    "longley_data = sm.datasets.get_rdataset('longley').data\n",
    "longley_data.reset_index(drop=True, inplace=True)"
   ]
  },
  {
   "cell_type": "code",
   "execution_count": 38,
   "metadata": {},
   "outputs": [],
   "source": [
    "X_columns = longley_data.columns[:-1]\n",
    "X = longley_data.iloc[:, :-1].to_numpy()\n",
    "X = sm.add_constant(X)\n",
    "\n",
    "y = longley_data['Employed'].to_numpy()"
   ]
  },
  {
   "cell_type": "code",
   "execution_count": 40,
   "metadata": {},
   "outputs": [
    {
     "name": "stdout",
     "output_type": "stream",
     "text": [
      "                            OLS Regression Results                            \n",
      "==============================================================================\n",
      "Dep. Variable:                      y   R-squared:                       0.995\n",
      "Model:                            OLS   Adj. R-squared:                  0.992\n",
      "Method:                 Least Squares   F-statistic:                     330.3\n",
      "Date:                Sun, 10 Jan 2021   Prob (F-statistic):           4.98e-10\n",
      "Time:                        00:42:48   Log-Likelihood:                0.90665\n",
      "No. Observations:                  16   AIC:                             12.19\n",
      "Df Residuals:                       9   BIC:                             17.59\n",
      "Df Model:                           6                                         \n",
      "Covariance Type:            nonrobust                                         \n",
      "==============================================================================\n",
      "                 coef    std err          t      P>|t|      [0.025      0.975]\n",
      "------------------------------------------------------------------------------\n",
      "const      -3482.2586    890.420     -3.911      0.004   -5496.529   -1467.988\n",
      "x1             0.0151      0.085      0.177      0.863      -0.177       0.207\n",
      "x2            -0.0358      0.033     -1.070      0.313      -0.112       0.040\n",
      "x3            -0.0202      0.005     -4.136      0.003      -0.031      -0.009\n",
      "x4            -0.0103      0.002     -4.822      0.001      -0.015      -0.005\n",
      "x5            -0.0511      0.226     -0.226      0.826      -0.563       0.460\n",
      "x6             1.8292      0.455      4.016      0.003       0.799       2.860\n",
      "==============================================================================\n",
      "Omnibus:                        0.749   Durbin-Watson:                   2.559\n",
      "Prob(Omnibus):                  0.688   Jarque-Bera (JB):                0.684\n",
      "Skew:                           0.420   Prob(JB):                        0.710\n",
      "Kurtosis:                       2.434   Cond. No.                     2.38e+07\n",
      "==============================================================================\n",
      "\n",
      "Notes:\n",
      "[1] Standard Errors assume that the covariance matrix of the errors is correctly specified.\n",
      "[2] The condition number is large, 2.38e+07. This might indicate that there are\n",
      "strong multicollinearity or other numerical problems.\n",
      "R-Squared: 0.9954790045772924\n",
      "\n",
      "Variance Inflation Factor for GNP.deflator: 135.53\n",
      "Variance Inflation Factor for GNP: 1788.51\n",
      "Variance Inflation Factor for Unemployed: 33.62\n",
      "Variance Inflation Factor for Armed.Forces: 3.59\n",
      "Variance Inflation Factor for Population: 399.15\n",
      "Variance Inflation Factor for Year: 758.98\n"
     ]
    },
    {
     "name": "stderr",
     "output_type": "stream",
     "text": [
      "/usr/lib/python3.9/site-packages/scipy/stats/stats.py:1603: UserWarning: kurtosistest only valid for n>=20 ... continuing anyway, n=16\n",
      "  warnings.warn(\"kurtosistest only valid for n>=20 ... continuing \"\n"
     ]
    }
   ],
   "source": [
    "longley_model = sm.OLS(endog=y, exog=X)\n",
    "longley_results = longley_model.fit()\n",
    "\n",
    "print(longley_results.summary())\n",
    "print(f'R-Squared: {longley_results.rsquared}\\n')\n",
    "\n",
    "longley_vifs = calculate_vifs(X)\n",
    "for column, vif in zip(X_columns, longley_vifs):\n",
    "    print(f'Variance Inflation Factor for {column}: {vif}')"
   ]
  }
 ],
 "metadata": {
  "kernelspec": {
   "display_name": "Python 3",
   "language": "python",
   "name": "python3"
  },
  "language_info": {
   "codemirror_mode": {
    "name": "ipython",
    "version": 3
   },
   "file_extension": ".py",
   "mimetype": "text/x-python",
   "name": "python",
   "nbconvert_exporter": "python",
   "pygments_lexer": "ipython3",
   "version": "3.9.1"
  }
 },
 "nbformat": 4,
 "nbformat_minor": 4
}
